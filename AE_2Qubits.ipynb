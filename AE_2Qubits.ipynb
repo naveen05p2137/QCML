{
 "cells": [
  {
   "cell_type": "code",
   "execution_count": 50,
   "id": "901603ae",
   "metadata": {},
   "outputs": [],
   "source": [
    "from qiskit import IBMQ, Aer\n",
    "from qiskit.providers.ibmq import least_busy\n",
    "from qiskit import QuantumCircuit,QuantumRegister, execute, ClassicalRegister, transpile\n",
    "from qiskit.visualization import plot_histogram, plot_bloch_multivector\n",
    "from qiskit.circuit.library import MCXGate\n",
    "import qiskit.quantum_info as qi\n",
    "import math\n",
    "from math import sqrt"
   ]
  },
  {
   "cell_type": "code",
   "execution_count": 51,
   "id": "ac22f698",
   "metadata": {},
   "outputs": [],
   "source": [
    "def get_beta(s, j, alpha):\n",
    "    numerator = 0;\n",
    "    denominator = 0;\n",
    "    l = 1\n",
    "    while(l <= 2**(s-1)):\n",
    "        idx = ((2*j) -1)* 2**(s-1) + l;\n",
    "        numerator = numerator + (alpha[idx-1]*alpha[idx-1]);\n",
    "        l = l+1\n",
    "    l = 1\n",
    "    while(l <= 2**(s)):\n",
    "        idx = (j-1)* 2**s + l\n",
    "        l = l+1\n",
    "        denominator = denominator + (alpha[idx-1]*alpha[idx-1]);\n",
    "    if numerator == 0 or denominator == 0:\n",
    "        return 0;\n",
    "    theta = 2 * math.asin(sqrt(numerator/denominator))\n",
    "    print(s,j,theta)\n",
    "    return theta"
   ]
  },
  {
   "cell_type": "code",
   "execution_count": 52,
   "id": "ccef92e5",
   "metadata": {},
   "outputs": [],
   "source": [
    "def get_rgate(angle, nbr_ctrl):\n",
    "    qc = QuantumCircuit(1)\n",
    "    qc.ry(angle,0)\n",
    "    if(nbr_ctrl != 0):\n",
    "        qc = qc.to_gate().control(nbr_ctrl)\n",
    "    else:\n",
    "        qc = qc.to_gate()\n",
    "    return qc"
   ]
  },
  {
   "cell_type": "code",
   "execution_count": 59,
   "id": "43ef29e3",
   "metadata": {},
   "outputs": [],
   "source": [
    "state = [sqrt(0.1), 0, sqrt(0.9), 0]"
   ]
  },
  {
   "cell_type": "code",
   "execution_count": 60,
   "id": "1a193b37",
   "metadata": {},
   "outputs": [
    {
     "name": "stdout",
     "output_type": "stream",
     "text": [
      "2 1 2.498091544796509\n"
     ]
    },
    {
     "data": {
      "text/html": [
       "<pre style=\"word-wrap: normal;white-space: pre;background: #fff0;line-height: 1.1;font-family: &quot;Courier New&quot;,Courier,monospace\">      ░                 ░      ┌─────────────┐      ░ ┌─────────────┐ ░ ┌─┐   \n",
       "q_0: ─░─────────────────░──────┤ circuit-450 ├──────░─┤ circuit-458 ├─░─┤M├───\n",
       "      ░ ┌─────────────┐ ░ ┌───┐└──────┬──────┘┌───┐ ░ └──────┬──────┘ ░ └╥┘┌─┐\n",
       "q_1: ─░─┤ circuit-466 ├─░─┤ X ├───────■───────┤ X ├─░────────■────────░──╫─┤M├\n",
       "      ░ └─────────────┘ ░ └───┘               └───┘ ░                 ░  ║ └╥┘\n",
       "c: 2/════════════════════════════════════════════════════════════════════╩══╩═\n",
       "                                                                         0  1 </pre>"
      ],
      "text/plain": [
       "      ░                 ░      ┌─────────────┐      ░ ┌─────────────┐ ░ ┌─┐   \n",
       "q_0: ─░─────────────────░──────┤ circuit-450 ├──────░─┤ circuit-458 ├─░─┤M├───\n",
       "      ░ ┌─────────────┐ ░ ┌───┐└──────┬──────┘┌───┐ ░ └──────┬──────┘ ░ └╥┘┌─┐\n",
       "q_1: ─░─┤ circuit-466 ├─░─┤ X ├───────■───────┤ X ├─░────────■────────░──╫─┤M├\n",
       "      ░ └─────────────┘ ░ └───┘               └───┘ ░                 ░  ║ └╥┘\n",
       "c: 2/════════════════════════════════════════════════════════════════════╩══╩═\n",
       "                                                                         0  1 "
      ]
     },
     "execution_count": 60,
     "metadata": {},
     "output_type": "execute_result"
    }
   ],
   "source": [
    "qc = QuantumCircuit(2,2)\n",
    "rgate1_1 = get_rgate(get_beta(1,1,state),1)\n",
    "rgate1_2 = get_rgate(get_beta(1,2,state),1)\n",
    "rgate2_1 = get_rgate(get_beta(2,1,state),0)\n",
    "\n",
    "qc.barrier()\n",
    "qc.append(rgate2_1, [1])\n",
    "qc.barrier()\n",
    "#For 0 state of q_1\n",
    "qc.x(1)\n",
    "qc.append(rgate1_1, [1,0])\n",
    "qc.x(1)\n",
    "qc.barrier()\n",
    "#For 1 state of q_1\n",
    "qc.append(rgate1_2, [1,0])\n",
    "qc.barrier()\n",
    "qc.measure(range(2), range(2))\n",
    "qc.draw()"
   ]
  },
  {
   "cell_type": "code",
   "execution_count": 61,
   "id": "ec14c77f",
   "metadata": {},
   "outputs": [
    {
     "name": "stdout",
     "output_type": "stream",
     "text": [
      "{'10': 915, '00': 109}\n"
     ]
    }
   ],
   "source": [
    "\n",
    "backend = Aer.get_backend('qasm_simulator')\n",
    "job = execute(qc, backend)\n",
    "result = job.result()\n",
    "counts = job.result().get_counts()\n",
    "print(counts)"
   ]
  },
  {
   "cell_type": "code",
   "execution_count": null,
   "id": "0a082bc6",
   "metadata": {},
   "outputs": [],
   "source": []
  }
 ],
 "metadata": {
  "kernelspec": {
   "display_name": "Python 3 (ipykernel)",
   "language": "python",
   "name": "python3"
  },
  "language_info": {
   "codemirror_mode": {
    "name": "ipython",
    "version": 3
   },
   "file_extension": ".py",
   "mimetype": "text/x-python",
   "name": "python",
   "nbconvert_exporter": "python",
   "pygments_lexer": "ipython3",
   "version": "3.10.10"
  }
 },
 "nbformat": 4,
 "nbformat_minor": 5
}
